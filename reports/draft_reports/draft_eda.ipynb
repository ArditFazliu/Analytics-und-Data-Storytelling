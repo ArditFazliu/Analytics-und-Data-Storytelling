{
 "cells": [
  {
   "attachments": {},
   "cell_type": "markdown",
   "metadata": {},
   "source": [
    "#### EDA - Explorative data analysis\n",
    "\n",
    "Im folgenden wird die explorative Datenanalyse für jede Hypothese durchgeführt.\n"
   ]
  },
  {
   "cell_type": "code",
   "execution_count": 1,
   "metadata": {},
   "outputs": [],
   "source": [
    "# Importing libraries\n",
    "import pandas as pd\n",
    "import altair as alt\n",
    "from pathlib import Path"
   ]
  },
  {
   "cell_type": "code",
   "execution_count": null,
   "metadata": {},
   "outputs": [],
   "source": [
    "# CSV Einlesen \n",
    "parent_path = str(Path().resolve().parent.parent) + \"/\"\n",
    "data_path = \"data/\"\n",
    "processed_path = \"processed/\"\n",
    "processed_file = \"processed_data.csv\"\n",
    "\n",
    "df = pd.read_csv(parent_path + data_path + processed_path + processed_file, encoding= 'unicode_escape')\n",
    "\n",
    "#df.info()\n",
    "#df.describe()"
   ]
  },
  {
   "cell_type": "code",
   "execution_count": null,
   "metadata": {},
   "outputs": [],
   "source": [
    "# Weitere Korrekturen\n",
    "\n",
    "# Remove duplicate rows\n",
    "df = df.drop_duplicates()\n",
    "\n",
    "#Fehlende Werte auslesen\n",
    "df.isna().sum()\n",
    "\n",
    "#Fehlende Werte löschen\n",
    "df = df.dropna(subset=['CustomerID'])\n",
    "df = df.dropna(subset=['Description'])"
   ]
  }
 ],
 "metadata": {
  "kernelspec": {
   "display_name": "myenv",
   "language": "python",
   "name": "python3"
  },
  "language_info": {
   "codemirror_mode": {
    "name": "ipython",
    "version": 3
   },
   "file_extension": ".py",
   "mimetype": "text/x-python",
   "name": "python",
   "nbconvert_exporter": "python",
   "pygments_lexer": "ipython3",
   "version": "3.9.13"
  },
  "orig_nbformat": 4,
  "vscode": {
   "interpreter": {
    "hash": "e15ac9eba63a5c09141544704f57ff910d35b346b5f59427653c91541004419a"
   }
  }
 },
 "nbformat": 4,
 "nbformat_minor": 2
}
